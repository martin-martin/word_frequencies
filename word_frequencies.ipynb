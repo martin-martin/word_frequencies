{
 "cells": [
  {
   "cell_type": "markdown",
   "metadata": {},
   "source": [
    "# Calculating word frequencies inside a song text"
   ]
  },
  {
   "cell_type": "code",
   "execution_count": 91,
   "metadata": {
    "collapsed": true
   },
   "outputs": [],
   "source": [
    "# -*- coding: utf-8 -*-\n",
    "import pandas as pd\n",
    "from pprint import pprint\n",
    "import codecs\n",
    "import re\n",
    "from itertools import islice"
   ]
  },
  {
   "cell_type": "code",
   "execution_count": 92,
   "metadata": {
    "collapsed": false
   },
   "outputs": [
    {
     "name": "stdout",
     "output_type": "stream",
     "text": [
      "se que mis rimas aveces causan disgustos, cuando mis neuronas corren hasta yo mismo me asusto mis respuestas pueden ser tan agresivas, que hasta las letras me huyen porque tienen miedo de que las escriba no tengo rifles pa matarte solo basta con la pista convierto letras en ideas como un ilusionista en una linea te mato te fracturo te lesiono y en en la siguiente te resucito cuando te menciono eso es parte de mi arte que todo el mundo sepa, que estas rimas son pa ti sin tener que mencionarte y no lo hago para evitar el roce lo hago para no hacerte famoso en los países donde nadie te conoce después de ver como se mueven las guerras y las guerrillas tu crees que le voy a tener miedo a tu pandilla? dispara cuando quieras raperito maleantoso aquí no gana el mas maleante gana el mas ingenioso en tu cabeza tu eres un narco buscado por la policía y tus pistolas son como los unicornios de fantasía no hay problema en que tengas enemigos imaginarios pero si en que los chamaquitos crean que eres \n"
     ]
    }
   ],
   "source": [
    "songtext_file = 'Adentro.txt'\n",
    "song = ''\n",
    "\n",
    "with codecs.open(songtext_file, 'r', encoding='utf-8') as f:\n",
    "    # importing file content to a string and\n",
    "    # transforming all text to lowercase, because we're interested in unique words\n",
    "    song = f.read().lower()\n",
    "    # removing U+2028 (unicode line separator) to avoid later matching errors\n",
    "    # https://stackoverflow.com/questions/2201633/replace-newlines-in-a-unicode-string\n",
    "    song = ''.join(song.splitlines())\n",
    "\n",
    "# looking at a section of the resulting song string\n",
    "print song[0:1000]"
   ]
  },
  {
   "cell_type": "code",
   "execution_count": 93,
   "metadata": {
    "collapsed": false
   },
   "outputs": [
    {
     "name": "stdout",
     "output_type": "stream",
     "text": [
      "lalála,!? 3345 (coro), moró - lala.\n",
      "lalála  coro moró  lala\n"
     ]
    }
   ],
   "source": [
    "# removing special characters that are not part of words, such as ( and ) in \"(coro)\"\n",
    "trytext = u\"lalála,!? 3345 (coro), moró - lala.\"\n",
    "\n",
    "print trytext\n",
    "# removing some common special characters, punctuation, and numbers,\n",
    "# while keeping what's necessary for representing unicode characters!\n",
    "\n",
    "print re.sub(r'[\\d(),.!?/-]', '', trytext)"
   ]
  },
  {
   "cell_type": "code",
   "execution_count": 94,
   "metadata": {
    "collapsed": false
   },
   "outputs": [
    {
     "name": "stdout",
     "output_type": "stream",
     "text": [
      "se que mis rimas aveces causan disgustos cuando mis neuronas corren hasta yo mismo me asusto mis res\n"
     ]
    }
   ],
   "source": [
    "song = re.sub(r'[\\d(),.!?/-]', '', song)\n",
    "print song[0:100]"
   ]
  },
  {
   "cell_type": "code",
   "execution_count": 95,
   "metadata": {
    "collapsed": false,
    "scrolled": true
   },
   "outputs": [
    {
     "data": {
      "text/plain": [
       "638"
      ]
     },
     "execution_count": 95,
     "metadata": {},
     "output_type": "execute_result"
    }
   ],
   "source": [
    "# getting a list containing each word as an entry (splitting the string at ' ')\n",
    "all_words_raw = song.split(' ')\n",
    "# how many are there?\n",
    "len(all_words_raw)"
   ]
  },
  {
   "cell_type": "code",
   "execution_count": 96,
   "metadata": {
    "collapsed": false
   },
   "outputs": [
    {
     "data": {
      "text/plain": [
       "636"
      ]
     },
     "execution_count": 96,
     "metadata": {},
     "output_type": "execute_result"
    }
   ],
   "source": [
    "# remove empty string entries (only whitespaces)\n",
    "# that come to be from removed special characters, such as \" - \" -> \" \"\n",
    "# removes also \"0\" - but numbers are anyways removed and not of interest for vocabulary\n",
    "# https://stackoverflow.com/questions/3845423/remove-empty-strings-from-a-list-of-strings\n",
    "all_words = filter(None, all_words_raw)\n",
    "# how many are there now? (2 removed)\n",
    "len(all_words)"
   ]
  },
  {
   "cell_type": "code",
   "execution_count": 97,
   "metadata": {
    "collapsed": false
   },
   "outputs": [
    {
     "name": "stdout",
     "output_type": "stream",
     "text": [
      "removed:    <-\n",
      "removed:    <-\n"
     ]
    }
   ],
   "source": [
    "# checking whether we did the right thing here\n",
    "for word in all_words_raw:\n",
    "    if word not in all_words:\n",
    "        print \"removed: \", word, \" <-\""
   ]
  },
  {
   "cell_type": "code",
   "execution_count": 98,
   "metadata": {
    "collapsed": false
   },
   "outputs": [
    {
     "data": {
      "text/plain": [
       "[u'se', u'que', u'mis', u'rimas', u'aveces']"
      ]
     },
     "execution_count": 98,
     "metadata": {},
     "output_type": "execute_result"
    }
   ],
   "source": [
    "# show a few - see the internal representation of unicode characters\n",
    "\n",
    "all_words[0:5]"
   ]
  },
  {
   "cell_type": "code",
   "execution_count": 99,
   "metadata": {
    "collapsed": false
   },
   "outputs": [
    {
     "name": "stdout",
     "output_type": "stream",
     "text": [
      "The first word containing a Spanish unicode character, países, is found at index 108\n"
     ]
    }
   ],
   "source": [
    "spanish_unicode_characters = [u'í', u'á', u'é', u'ó', u'ú', u'ñ', u'ü']\n",
    "# according to: http://character-code.com/spanish-html-codes.php\n",
    "\n",
    "# get the index of one word containing a relevant unicode character\n",
    "# https://stackoverflow.com/questions/6531482/how-to-check-if-a-string-contains-an-element-from-a-list-in-python\n",
    "index = 0\n",
    "for word in all_words:\n",
    "    index += 1\n",
    "    if any(u_char in spanish_unicode_characters for u_char in word):\n",
    "        example_unicode_word = word\n",
    "        unicode_index = index - 1\n",
    "        break\n",
    "\n",
    "# https://stackoverflow.com/questions/3235386/python-using-format-on-a-unicode-escaped-string\n",
    "print u\"The first word containing a Spanish unicode character, {}, \\\n",
    "is found at index {}\".format(example_unicode_word, unicode_index)"
   ]
  },
  {
   "cell_type": "code",
   "execution_count": 100,
   "metadata": {
    "collapsed": false
   },
   "outputs": [
    {
     "data": {
      "text/plain": [
       "u'pa\\xedses'"
      ]
     },
     "execution_count": 100,
     "metadata": {},
     "output_type": "execute_result"
    }
   ],
   "source": [
    "all_words[unicode_index]"
   ]
  },
  {
   "cell_type": "code",
   "execution_count": 101,
   "metadata": {
    "collapsed": false
   },
   "outputs": [
    {
     "name": "stdout",
     "output_type": "stream",
     "text": [
      "países\n"
     ]
    }
   ],
   "source": [
    "# another example that life is good!\n",
    "# when using print, the internal unicode representation gets outputted correctly formatted\n",
    "print all_words[unicode_index]"
   ]
  },
  {
   "cell_type": "code",
   "execution_count": 102,
   "metadata": {
    "collapsed": false,
    "scrolled": true
   },
   "outputs": [
    {
     "name": "stdout",
     "output_type": "stream",
     "text": [
      "[(u'tratar', 1),\n",
      " (u'estudiante', 1),\n",
      " (u'rifles', 1),\n",
      " (u'duelen', 1),\n",
      " (u'bien', 1)]\n"
     ]
    }
   ],
   "source": [
    "# now I need to count how often do words appear in the song text\n",
    "word_frequencies_in_text = {}\n",
    "\n",
    "for word in all_words:\n",
    "    # avoiding that sentence beginner words are counted extra\n",
    "    word = word.lower()\n",
    "    # avoiding the empty thingies that come from removing some special chars and nums\n",
    "    if word != '':\n",
    "        # this counts them all\n",
    "        if word not in word_frequencies_in_text:\n",
    "            word_frequencies_in_text[word] = 0\n",
    "        word_frequencies_in_text[word] += 1\n",
    "\n",
    "# looking at a few of the frequency dict entries\n",
    "# https://stackoverflow.com/questions/7971618/python-return-first-n-keyvalue-pairs-from-dict\n",
    "n = 5\n",
    "pprint(list(islice(word_frequencies_in_text.iteritems(), n)))"
   ]
  },
  {
   "cell_type": "code",
   "execution_count": 103,
   "metadata": {
    "collapsed": false
   },
   "outputs": [
    {
     "name": "stdout",
     "output_type": "stream",
     "text": [
      "There are 331 unique words in the song\n"
     ]
    }
   ],
   "source": [
    "# getting a list of the unique words in the songtext\n",
    "unique_words = set(all_words)\n",
    "print \"There are {} unique words in the song\".format(len(unique_words))"
   ]
  },
  {
   "cell_type": "markdown",
   "metadata": {},
   "source": [
    "Okay, so this gives us a frequency calculation for the words in one specific song text, and a short overview of the song's content. Next step is to see how they relate to the most frequent words in Spanish.\n",
    "\n",
    "---"
   ]
  },
  {
   "cell_type": "markdown",
   "metadata": {},
   "source": [
    "# Which of the 5000 most common words are served by these lyrics?"
   ]
  },
  {
   "cell_type": "code",
   "execution_count": 104,
   "metadata": {
    "collapsed": false
   },
   "outputs": [
    {
     "data": {
      "text/html": [
       "<div>\n",
       "<table border=\"1\" class=\"dataframe\">\n",
       "  <thead>\n",
       "    <tr style=\"text-align: right;\">\n",
       "      <th></th>\n",
       "      <th>word</th>\n",
       "      <th>frequency</th>\n",
       "    </tr>\n",
       "  </thead>\n",
       "  <tbody>\n",
       "    <tr>\n",
       "      <th>0</th>\n",
       "      <td>de</td>\n",
       "      <td>3405234</td>\n",
       "    </tr>\n",
       "    <tr>\n",
       "      <th>1</th>\n",
       "      <td>que</td>\n",
       "      <td>3349162</td>\n",
       "    </tr>\n",
       "    <tr>\n",
       "      <th>2</th>\n",
       "      <td>no</td>\n",
       "      <td>3166057</td>\n",
       "    </tr>\n",
       "    <tr>\n",
       "      <th>3</th>\n",
       "      <td>a</td>\n",
       "      <td>2368719</td>\n",
       "    </tr>\n",
       "    <tr>\n",
       "      <th>4</th>\n",
       "      <td>la</td>\n",
       "      <td>2288023</td>\n",
       "    </tr>\n",
       "  </tbody>\n",
       "</table>\n",
       "</div>"
      ],
      "text/plain": [
       "  word  frequency\n",
       "0   de    3405234\n",
       "1  que    3349162\n",
       "2   no    3166057\n",
       "3    a    2368719\n",
       "4   la    2288023"
      ]
     },
     "execution_count": 104,
     "metadata": {},
     "output_type": "execute_result"
    }
   ],
   "source": [
    "# importing the frequency list as a pandas dataframe\n",
    "es_word_frequencies = pd.read_csv('es.csv')\n",
    "\n",
    "es_word_frequencies.head()"
   ]
  },
  {
   "cell_type": "code",
   "execution_count": 105,
   "metadata": {
    "collapsed": false,
    "scrolled": true
   },
   "outputs": [
    {
     "data": {
      "text/plain": [
       "word            más\n",
       "frequency    377638\n",
       "Name: 36, dtype: object"
      ]
     },
     "execution_count": 105,
     "metadata": {},
     "output_type": "execute_result"
    }
   ],
   "source": [
    "# checking whether we're dealing with unicode strings\n",
    "es_word_frequencies.iloc[36]\n",
    "# yep we are."
   ]
  },
  {
   "cell_type": "code",
   "execution_count": 108,
   "metadata": {
    "collapsed": false
   },
   "outputs": [
    {
     "name": "stdout",
     "output_type": "stream",
     "text": [
      "535232\n"
     ]
    }
   ],
   "source": [
    "# this list is very long\n",
    "print len(es_word_frequencies)"
   ]
  },
  {
   "cell_type": "code",
   "execution_count": 109,
   "metadata": {
    "collapsed": false
   },
   "outputs": [
    {
     "name": "stdout",
     "output_type": "stream",
     "text": [
      "A new df with only the top 5000 most frequent Spanish words.\n"
     ]
    },
    {
     "data": {
      "text/html": [
       "<div>\n",
       "<table border=\"1\" class=\"dataframe\">\n",
       "  <thead>\n",
       "    <tr style=\"text-align: right;\">\n",
       "      <th></th>\n",
       "      <th>word</th>\n",
       "      <th>frequency</th>\n",
       "    </tr>\n",
       "  </thead>\n",
       "  <tbody>\n",
       "    <tr>\n",
       "      <th>0</th>\n",
       "      <td>de</td>\n",
       "      <td>3405234</td>\n",
       "    </tr>\n",
       "    <tr>\n",
       "      <th>1</th>\n",
       "      <td>que</td>\n",
       "      <td>3349162</td>\n",
       "    </tr>\n",
       "    <tr>\n",
       "      <th>2</th>\n",
       "      <td>no</td>\n",
       "      <td>3166057</td>\n",
       "    </tr>\n",
       "    <tr>\n",
       "      <th>3</th>\n",
       "      <td>a</td>\n",
       "      <td>2368719</td>\n",
       "    </tr>\n",
       "    <tr>\n",
       "      <th>4</th>\n",
       "      <td>la</td>\n",
       "      <td>2288023</td>\n",
       "    </tr>\n",
       "  </tbody>\n",
       "</table>\n",
       "</div>"
      ],
      "text/plain": [
       "  word  frequency\n",
       "0   de    3405234\n",
       "1  que    3349162\n",
       "2   no    3166057\n",
       "3    a    2368719\n",
       "4   la    2288023"
      ]
     },
     "execution_count": 109,
     "metadata": {},
     "output_type": "execute_result"
    }
   ],
   "source": [
    "top_5000 = es_word_frequencies[0:5000]\n",
    "print \"A new df with only the top {} most frequent Spanish words.\".format(len(top_5000))\n",
    "top_5000.head()"
   ]
  },
  {
   "cell_type": "code",
   "execution_count": 110,
   "metadata": {
    "collapsed": false
   },
   "outputs": [
    {
     "data": {
      "text/html": [
       "<div>\n",
       "<table border=\"1\" class=\"dataframe\">\n",
       "  <thead>\n",
       "    <tr style=\"text-align: right;\">\n",
       "      <th></th>\n",
       "      <th>word</th>\n",
       "      <th>frequency</th>\n",
       "      <th>in_lyrics</th>\n",
       "    </tr>\n",
       "  </thead>\n",
       "  <tbody>\n",
       "    <tr>\n",
       "      <th>0</th>\n",
       "      <td>de</td>\n",
       "      <td>3405234</td>\n",
       "      <td>False</td>\n",
       "    </tr>\n",
       "    <tr>\n",
       "      <th>1</th>\n",
       "      <td>que</td>\n",
       "      <td>3349162</td>\n",
       "      <td>False</td>\n",
       "    </tr>\n",
       "    <tr>\n",
       "      <th>2</th>\n",
       "      <td>no</td>\n",
       "      <td>3166057</td>\n",
       "      <td>False</td>\n",
       "    </tr>\n",
       "    <tr>\n",
       "      <th>3</th>\n",
       "      <td>a</td>\n",
       "      <td>2368719</td>\n",
       "      <td>False</td>\n",
       "    </tr>\n",
       "    <tr>\n",
       "      <th>4</th>\n",
       "      <td>la</td>\n",
       "      <td>2288023</td>\n",
       "      <td>False</td>\n",
       "    </tr>\n",
       "  </tbody>\n",
       "</table>\n",
       "</div>"
      ],
      "text/plain": [
       "  word  frequency in_lyrics\n",
       "0   de    3405234     False\n",
       "1  que    3349162     False\n",
       "2   no    3166057     False\n",
       "3    a    2368719     False\n",
       "4   la    2288023     False"
      ]
     },
     "execution_count": 110,
     "metadata": {},
     "output_type": "execute_result"
    }
   ],
   "source": [
    "# adding a third column that will serve as a checkpoint whether the word is\n",
    "# already served by a song lyric\n",
    "# initially this column will be set to \"False\" for each word\n",
    "# https://stackoverflow.com/questions/12555323/adding-new-column-to-existing-dataframe-in-python-pandas\n",
    "top_5000 = top_5000.assign(in_lyrics = pd.Series(False, index=top_5000.index))\n",
    "top_5000.head()"
   ]
  },
  {
   "cell_type": "code",
   "execution_count": 111,
   "metadata": {
    "collapsed": false
   },
   "outputs": [
    {
     "name": "stderr",
     "output_type": "stream",
     "text": [
      "/Applications/anaconda/lib/python2.7/site-packages/pandas/core/ops.py:648: UnicodeWarning: Unicode equal comparison failed to convert both arguments to Unicode - interpreting them as being unequal\n",
      "  result = lib.scalar_compare(x, y, op)\n",
      "/Applications/anaconda/lib/python2.7/site-packages/ipykernel/__main__.py:10: SettingWithCopyWarning: \n",
      "A value is trying to be set on a copy of a slice from a DataFrame\n",
      "\n",
      "See the caveats in the documentation: http://pandas.pydata.org/pandas-docs/stable/indexing.html#indexing-view-versus-copy\n"
     ]
    },
    {
     "name": "stdout",
     "output_type": "stream",
     "text": [
      "rifles <---- is not in frequency list\n",
      "duelen <---- is not in frequency list\n",
      "ingenioso <---- is not in frequency list\n",
      "corren <---- is not in frequency list\n",
      "aveces <---- is not in frequency list\n",
      "escriba <---- is not in frequency list\n",
      "arrepentí <---- is not in frequency list\n",
      "policía <---- is not in frequency list\n",
      "también <---- is not in frequency list\n",
      "sicario <---- is not in frequency list\n",
      "excursión <---- is not in frequency list\n",
      "venden <---- is not in frequency list\n",
      "ilusionista <---- is not in frequency list\n",
      "suenan <---- is not in frequency list\n",
      "robarte <---- is not in frequency list\n",
      "algún <---- is not in frequency list\n",
      "fobia <---- is not in frequency list\n",
      "exploten <---- is not in frequency list\n",
      "pistolas <---- is not in frequency list\n",
      "sesos <---- is not in frequency list\n",
      "desigualdades <---- is not in frequency list\n",
      "cabrón <---- is not in frequency list\n",
      "boxeadores <---- is not in frequency list\n",
      "aquí <---- is not in frequency list\n",
      "acá <---- is not in frequency list\n",
      "tirarme <---- is not in frequency list\n",
      "neuronas <---- is not in frequency list\n",
      "magogo <---- is not in frequency list\n",
      "invierto <---- is not in frequency list\n",
      "roce <---- is not in frequency list\n",
      "delicadeza <---- is not in frequency list\n",
      "desempeño <---- is not in frequency list\n",
      "calvos <---- is not in frequency list\n",
      "siria <---- is not in frequency list\n",
      "universidades <---- is not in frequency list\n",
      "países <---- is not in frequency list\n",
      "mueven <---- is not in frequency list\n",
      "convierto <---- is not in frequency list\n",
      "derriten <---- is not in frequency list\n",
      "criticas <---- is not in frequency list\n",
      "ahorque <---- is not in frequency list\n",
      "allá <---- is not in frequency list\n",
      "congo <---- is not in frequency list\n",
      "menciono <---- is not in frequency list\n",
      "manejo <---- is not in frequency list\n",
      "coro <---- is not in frequency list\n",
      "rimas <---- is not in frequency list\n",
      "resucito <---- is not in frequency list\n",
      "agresivas <---- is not in frequency list\n",
      "hijoeputa <---- is not in frequency list\n",
      "borren <---- is not in frequency list\n",
      "marineros <---- is not in frequency list\n",
      "unicornios <---- is not in frequency list\n",
      "compre <---- is not in frequency list\n",
      "rapero <---- is not in frequency list\n",
      "día <---- is not in frequency list\n",
      "carajos <---- is not in frequency list\n",
      "transparente <---- is not in frequency list\n",
      "baseball <---- is not in frequency list\n",
      "después <---- is not in frequency list\n",
      "lucho <---- is not in frequency list\n",
      "bombazos <---- is not in frequency list\n",
      "ropita <---- is not in frequency list\n",
      "desorden <---- is not in frequency list\n",
      "maleantoso <---- is not in frequency list\n",
      "violenta <---- is not in frequency list\n",
      "café <---- is not in frequency list\n",
      "causan <---- is not in frequency list\n",
      "maleante <---- is not in frequency list\n",
      "bruto <---- is not in frequency list\n",
      "gorrita <---- is not in frequency list\n",
      "limpien <---- is not in frequency list\n",
      "pa <---- is not in frequency list\n",
      "bolar <---- is not in frequency list\n",
      "cristianas <---- is not in frequency list\n",
      "pillen <---- is not in frequency list\n",
      "estarían <---- is not in frequency list\n",
      "graduados <---- is not in frequency list\n",
      "disgustos <---- is not in frequency list\n",
      "incitar <---- is not in frequency list\n",
      "merecía <---- is not in frequency list\n",
      "años <---- is not in frequency list\n",
      "revolución <---- is not in frequency list\n",
      "fantasía <---- is not in frequency list\n",
      "política <---- is not in frequency list\n",
      "chamaquitos <---- is not in frequency list\n",
      "ultra <---- is not in frequency list\n",
      "burlarme <---- is not in frequency list\n",
      "rapeando <---- is not in frequency list\n",
      "ak <---- is not in frequency list\n",
      "educación <---- is not in frequency list\n",
      "honestidad <---- is not in frequency list\n",
      "mencionarte <---- is not in frequency list\n",
      "crean <---- is not in frequency list\n",
      "maserati <---- is not in frequency list\n",
      "cucarachas <---- is not in frequency list\n",
      "fucking <---- is not in frequency list\n",
      "lesiono <---- is not in frequency list\n",
      "rimando <---- is not in frequency list\n",
      "quedando <---- is not in frequency list\n",
      "acertijos <---- is not in frequency list\n",
      "africana <---- is not in frequency list\n",
      "fracturo <---- is not in frequency list\n",
      "todavía <---- is not in frequency list\n",
      "mensualidad <---- is not in frequency list\n",
      "cadenita <---- is not in frequency list\n",
      "narco <---- is not in frequency list\n",
      "mirarme <---- is not in frequency list\n",
      "imaginarios <---- is not in frequency list\n",
      "falto <---- is not in frequency list\n",
      "raperito <---- is not in frequency list\n",
      "sexualmente <---- is not in frequency list\n",
      "mae <---- is not in frequency list\n",
      "líricas <---- is not in frequency list\n",
      "huyen <---- is not in frequency list\n",
      "tiranía <---- is not in frequency list\n",
      "guerrillas <---- is not in frequency list\n",
      "crédito <---- is not in frequency list\n",
      "asusto <---- is not in frequency list\n",
      "dificultad <---- is not in frequency list\n",
      "país <---- is not in frequency list\n",
      "linea <---- is not in frequency list\n",
      "lagartijas <---- is not in frequency list\n"
     ]
    }
   ],
   "source": [
    "# now for the nitty-gritty.\n",
    "# checking through each word of the lyrics\n",
    "for song_word in word_frequencies_in_text.keys():\n",
    "    # if it has a corresponding entry in the frequency df\n",
    "    # (if the row of the df\n",
    "    #     where the field entry in the \"word\" column is the same as the songtext word\n",
    "    # is NOT empty)\n",
    "    if not top_5000[top_5000.word == song_word].empty:\n",
    "        # then set the corresponding field in the \"in_lyrics\" column to \"True\"\n",
    "        top_5000.in_lyrics[top_5000.word == song_word] = True\n",
    "    \n",
    "    ##### ATTENTION ####\n",
    "    # if the df is empty then this means the word in the lyrics does NOT exist in the frequency df\n",
    "    # this is probably due to flexion of a verb, or plural version of a noun\n",
    "    # TODO: how to properly deal with this (probably through lemmas)\n",
    "    # for now, just print a warning and the word for closer inspection\n",
    "    else:\n",
    "        print song_word, \"<---- is not in frequency list\""
   ]
  },
  {
   "cell_type": "code",
   "execution_count": 112,
   "metadata": {
    "collapsed": false,
    "scrolled": true
   },
   "outputs": [
    {
     "data": {
      "text/html": [
       "<div>\n",
       "<table border=\"1\" class=\"dataframe\">\n",
       "  <thead>\n",
       "    <tr style=\"text-align: right;\">\n",
       "      <th></th>\n",
       "      <th>word</th>\n",
       "      <th>frequency</th>\n",
       "      <th>in_lyrics</th>\n",
       "    </tr>\n",
       "  </thead>\n",
       "  <tbody>\n",
       "    <tr>\n",
       "      <th>0</th>\n",
       "      <td>de</td>\n",
       "      <td>3405234</td>\n",
       "      <td>True</td>\n",
       "    </tr>\n",
       "    <tr>\n",
       "      <th>1</th>\n",
       "      <td>que</td>\n",
       "      <td>3349162</td>\n",
       "      <td>True</td>\n",
       "    </tr>\n",
       "    <tr>\n",
       "      <th>2</th>\n",
       "      <td>no</td>\n",
       "      <td>3166057</td>\n",
       "      <td>True</td>\n",
       "    </tr>\n",
       "    <tr>\n",
       "      <th>3</th>\n",
       "      <td>a</td>\n",
       "      <td>2368719</td>\n",
       "      <td>True</td>\n",
       "    </tr>\n",
       "    <tr>\n",
       "      <th>4</th>\n",
       "      <td>la</td>\n",
       "      <td>2288023</td>\n",
       "      <td>True</td>\n",
       "    </tr>\n",
       "  </tbody>\n",
       "</table>\n",
       "</div>"
      ],
      "text/plain": [
       "  word  frequency in_lyrics\n",
       "0   de    3405234      True\n",
       "1  que    3349162      True\n",
       "2   no    3166057      True\n",
       "3    a    2368719      True\n",
       "4   la    2288023      True"
      ]
     },
     "execution_count": 112,
     "metadata": {},
     "output_type": "execute_result"
    }
   ],
   "source": [
    "# checking the edited df\n",
    "top_5000.head()"
   ]
  },
  {
   "cell_type": "code",
   "execution_count": 113,
   "metadata": {
    "collapsed": false
   },
   "outputs": [
    {
     "data": {
      "text/html": [
       "<div>\n",
       "<table border=\"1\" class=\"dataframe\">\n",
       "  <thead>\n",
       "    <tr style=\"text-align: right;\">\n",
       "      <th></th>\n",
       "      <th>word</th>\n",
       "      <th>frequency</th>\n",
       "      <th>in_lyrics</th>\n",
       "    </tr>\n",
       "  </thead>\n",
       "  <tbody>\n",
       "    <tr>\n",
       "      <th>4995</th>\n",
       "      <td>regresará</td>\n",
       "      <td>1421</td>\n",
       "      <td>False</td>\n",
       "    </tr>\n",
       "    <tr>\n",
       "      <th>4996</th>\n",
       "      <td>cayendo</td>\n",
       "      <td>1421</td>\n",
       "      <td>False</td>\n",
       "    </tr>\n",
       "    <tr>\n",
       "      <th>4997</th>\n",
       "      <td>positivo</td>\n",
       "      <td>1420</td>\n",
       "      <td>False</td>\n",
       "    </tr>\n",
       "    <tr>\n",
       "      <th>4998</th>\n",
       "      <td>entro</td>\n",
       "      <td>1420</td>\n",
       "      <td>False</td>\n",
       "    </tr>\n",
       "    <tr>\n",
       "      <th>4999</th>\n",
       "      <td>chofer</td>\n",
       "      <td>1420</td>\n",
       "      <td>False</td>\n",
       "    </tr>\n",
       "  </tbody>\n",
       "</table>\n",
       "</div>"
      ],
      "text/plain": [
       "           word  frequency in_lyrics\n",
       "4995  regresará       1421     False\n",
       "4996    cayendo       1421     False\n",
       "4997   positivo       1420     False\n",
       "4998      entro       1420     False\n",
       "4999     chofer       1420     False"
      ]
     },
     "execution_count": 113,
     "metadata": {},
     "output_type": "execute_result"
    }
   ],
   "source": [
    "# while the most frequent words seem to be included, the least frequent are not\n",
    "top_5000.tail()"
   ]
  },
  {
   "cell_type": "code",
   "execution_count": 114,
   "metadata": {
    "collapsed": false
   },
   "outputs": [
    {
     "name": "stdout",
     "output_type": "stream",
     "text": [
      "The lyrics of Adentro.txt consists of 331 unique words that include 208 of the 5000 most common Spanish words.\n"
     ]
    }
   ],
   "source": [
    "# and here are the results for this songtext:\n",
    "words_served_by_song = top_5000[top_5000.in_lyrics == True]\n",
    "print \"The lyrics of {} consists of {} unique words that include {} of \\\n",
    "the 5000 most common Spanish words.\".format(songtext_file, len(unique_words), len(words_served_by_song))"
   ]
  },
  {
   "cell_type": "markdown",
   "metadata": {},
   "source": [
    "# Attempting to resolve the issue with día et. al."
   ]
  },
  {
   "cell_type": "code",
   "execution_count": 120,
   "metadata": {
    "collapsed": false
   },
   "outputs": [
    {
     "ename": "NameError",
     "evalue": "name 'key' is not defined",
     "output_type": "error",
     "traceback": [
      "\u001b[0;31m---------------------------------------------------------------------------\u001b[0m",
      "\u001b[0;31mNameError\u001b[0m                                 Traceback (most recent call last)",
      "\u001b[0;32m<ipython-input-120-55ec6ecc9977>\u001b[0m in \u001b[0;36m<module>\u001b[0;34m()\u001b[0m\n\u001b[1;32m      2\u001b[0m \u001b[0;31m#words = pd.Series(word_frequencies_in_text.keys())\u001b[0m\u001b[0;34m\u001b[0m\u001b[0;34m\u001b[0m\u001b[0m\n\u001b[1;32m      3\u001b[0m \u001b[0;34m\u001b[0m\u001b[0m\n\u001b[0;32m----> 4\u001b[0;31m \u001b[0mdf\u001b[0m \u001b[0;34m=\u001b[0m \u001b[0mpd\u001b[0m\u001b[0;34m.\u001b[0m\u001b[0mDataFrame\u001b[0m\u001b[0;34m.\u001b[0m\u001b[0mfrom_items\u001b[0m\u001b[0;34m(\u001b[0m\u001b[0mkey\u001b[0m\u001b[0;34m,\u001b[0m \u001b[0mvalue\u001b[0m \u001b[0;32min\u001b[0m \u001b[0mword_frequencies_in_text\u001b[0m\u001b[0;34m.\u001b[0m\u001b[0miteritems\u001b[0m\u001b[0;34m(\u001b[0m\u001b[0;34m)\u001b[0m\u001b[0;34m)\u001b[0m\u001b[0;34m\u001b[0m\u001b[0m\n\u001b[0m\u001b[1;32m      5\u001b[0m \u001b[0mdf\u001b[0m\u001b[0;34m\u001b[0m\u001b[0m\n",
      "\u001b[0;31mNameError\u001b[0m: name 'key' is not defined"
     ]
    }
   ],
   "source": [
    "# trying to put also the dict inot a df, maybe they have the same representation then\n",
    "#words = pd.Series(word_frequencies_in_text.keys())\n",
    "\n",
    "df = pd.DataFrame.from_items(key, value in word_frequencies_in_text.iteritems())\n",
    "df"
   ]
  },
  {
   "cell_type": "code",
   "execution_count": null,
   "metadata": {
    "collapsed": true
   },
   "outputs": [],
   "source": []
  }
 ],
 "metadata": {
  "kernelspec": {
   "display_name": "Python 2",
   "language": "python",
   "name": "python2"
  },
  "language_info": {
   "codemirror_mode": {
    "name": "ipython",
    "version": 2
   },
   "file_extension": ".py",
   "mimetype": "text/x-python",
   "name": "python",
   "nbconvert_exporter": "python",
   "pygments_lexer": "ipython2",
   "version": "2.7.10"
  }
 },
 "nbformat": 4,
 "nbformat_minor": 0
}
